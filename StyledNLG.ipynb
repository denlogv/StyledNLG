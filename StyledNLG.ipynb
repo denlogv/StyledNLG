{
 "cells": [
  {
   "cell_type": "markdown",
   "metadata": {},
   "source": [
    "<h1><center>Logvinenko, Denis – Neural Networks – Project</center></h1>"
   ]
  },
  {
   "cell_type": "markdown",
   "metadata": {},
   "source": [
    "<h2><center>Controlling Linguistic Style Aspects in Neural Language Generation</center></h2>"
   ]
  },
  {
   "cell_type": "markdown",
   "metadata": {},
   "source": [
    "### Useful links:\n",
    "\n",
    "1. [Amazon movie reviews dataset](https://snap.stanford.edu/data/web-Movies.html)\n",
    "2. [Rotten Tomatoes critic reviews](https://github.com/nicolas-gervais/rotten-tomatoes-dataset)"
   ]
  },
  {
   "cell_type": "markdown",
   "metadata": {},
   "source": [
    "#### 0.1.0 All imports (we don't need everything from this list for training):"
   ]
  },
  {
   "cell_type": "code",
   "execution_count": 1,
   "metadata": {},
   "outputs": [],
   "source": [
    "from collections import Counter, defaultdict\n",
    "import numpy as np; np.random.seed(42)\n",
    "from matplotlib.ticker import MaxNLocator\n",
    "import matplotlib.pyplot as plt\n",
    "import matplotlib as mpl\n",
    "from copy import deepcopy\n",
    "import youtokentome as yttm\n",
    "import seaborn as sns\n",
    "from tqdm import tqdm\n",
    "import pandas as pd\n",
    "import subprocess\n",
    "import itertools\n",
    "import operator\n",
    "import os, sys\n",
    "import random\n",
    "import shutil\n",
    "import spacy; from spacy.lang.en import English\n",
    "import json\n",
    "import time\n",
    "import re\n",
    "import gc\n",
    "\n",
    "sns.set(rc={\"xtick.bottom\" : True, \"ytick.left\" : True})\n",
    "pd.set_option('display.max_rows', None)"
   ]
  },
  {
   "cell_type": "markdown",
   "metadata": {},
   "source": [
    "#### 0.2 Standard paths:"
   ]
  },
  {
   "cell_type": "code",
   "execution_count": 2,
   "metadata": {},
   "outputs": [],
   "source": [
    "amazon_movies = 'amazon_movies.txt'\n",
    "corpus_small = 'corpus_small.csv'\n",
    "corpus_small_annotated = 'corpus_small_annotated.csv'\n",
    "csa_json = 'corpus_small_annotated.json'\n",
    "sentences = 'sentences.txt'\n",
    "bpe_model = 'bpe.model'\n",
    "bpe_model_small = 'bpe10K.model'\n",
    "bpe_model_medium = 'bpe20K.model'"
   ]
  },
  {
   "cell_type": "markdown",
   "metadata": {},
   "source": [
    "#### 0.3 Auxiliary functions:"
   ]
  },
  {
   "cell_type": "code",
   "execution_count": 3,
   "metadata": {},
   "outputs": [],
   "source": [
    "def save_to_path(path, extension_of_old='.txt', extension_of_new='.csv') -> str:\n",
    "    \"\"\"\n",
    "    Function checks if some file in path already exists and if so, it adds an\n",
    "    index before the extension.\n",
    "    \n",
    "    Function has 2 further parameters:\n",
    "        extension_of_old --> defines the extension of the original file\n",
    "        extension_of_new --> defines the extension of the new file to be saved\n",
    "        \n",
    "    returns the new save path\n",
    "    \"\"\"\n",
    "    \n",
    "    m = re.match(f'(.+){extension_of_old}?', path)\n",
    "    save_path = m.group(1) + f'{extension_of_new}'    \n",
    "    j = 1\n",
    "    while os.path.isfile(save_path):       \n",
    "        save_path = m.group(1) + f'{j}{extension_of_new}'\n",
    "        j += 1\n",
    "        \n",
    "    return save_path"
   ]
  },
  {
   "cell_type": "markdown",
   "metadata": {},
   "source": [
    "<h3><center>1. Obtaining and preprocessing corpus</center></h3>"
   ]
  },
  {
   "cell_type": "markdown",
   "metadata": {},
   "source": [
    "#### 1.0 Checking for incomplete entries in the Amazon corpus:\n",
    "\n",
    "(There could have been entries, where not all necessary metadata were available)"
   ]
  },
  {
   "cell_type": "code",
   "execution_count": 4,
   "metadata": {},
   "outputs": [
    {
     "name": "stdout",
     "output_type": "stream",
     "text": [
      "Complete Entries: 7911684, Incomplete Entries: 0\n"
     ]
    }
   ],
   "source": [
    "def check_incomplete_entries(path, categories=None):\n",
    "    \"\"\"\n",
    "    This function shows if there are some entries, which we wouldn't \n",
    "    want to add because of the missing metadata\n",
    "    \"\"\"    \n",
    "    if categories is None:\n",
    "        categories = ['review/userId', 'review/score', 'review/text']\n",
    "        \n",
    "    notfull, full = 0, 0\n",
    "    current_cat_list = []\n",
    "    \n",
    "    with open(path) as f:\n",
    "        for line in f:\n",
    "            if sorted(categories) == sorted(current_cat_list):\n",
    "                full += 1\n",
    "                current_cat_list = [] \n",
    "            for cat in categories:\n",
    "                if cat in line:\n",
    "                    current_cat_list.append(cat)\n",
    "    \n",
    "    print(f'Complete Entries: {full}, Incomplete Entries: {7911684-full}')\n",
    "    \n",
    "check_incomplete_entries(amazon_movies)"
   ]
  },
  {
   "cell_type": "code",
   "execution_count": 5,
   "metadata": {},
   "outputs": [
    {
     "name": "stdout",
     "output_type": "stream",
     "text": [
      "Empty Lines: 7911696, Number of reviews: 7911684\n"
     ]
    }
   ],
   "source": [
    "def num_entries(path, categories=None):\n",
    "    \"\"\"\n",
    "    This function shows that 'line == '\\n'' is a really bad counter for reviews  \n",
    "    \"\"\"\n",
    "    if categories is None:\n",
    "        categories = ['review/userId', 'review/score', 'review/text']\n",
    "        \n",
    "    rev_count, empty = 0, 0\n",
    "    \n",
    "    with open(path) as f:        \n",
    "        for line in f:\n",
    "            if 'product/productId:' in line:\n",
    "                rev_count += 1\n",
    "            elif line == '\\n':\n",
    "                empty += 1\n",
    "    \n",
    "    print(f'Empty Lines: {empty}, Number of reviews: {rev_count}')\n",
    "    \n",
    "num_entries(amazon_movies)"
   ]
  },
  {
   "cell_type": "markdown",
   "metadata": {},
   "source": [
    "#### 1.1 Collecting information about user review counts:"
   ]
  },
  {
   "cell_type": "code",
   "execution_count": 6,
   "metadata": {
    "scrolled": true
   },
   "outputs": [
    {
     "name": "stdout",
     "output_type": "stream",
     "text": [
      "Number of reviews that were written by users with >= 100 reviews: 2551393\n",
      "Maximum number of reviews that a user ever wrote: 10793\n"
     ]
    }
   ],
   "source": [
    "def get_ids_stat(path, prof_min=100):\n",
    "    \n",
    "    stat_ids = defaultdict(int)        \n",
    "    with open(path) as f:\n",
    "        for line in f:\n",
    "            if 'review/userId:' in line:\n",
    "                user_id = line.split()[1]\n",
    "                stat_ids[user_id] += 1\n",
    "    idx = []\n",
    "    i = 1\n",
    "    with open(path) as f:\n",
    "        for line in f:\n",
    "            if 'review/userId:' in line:\n",
    "                user_id = line.split()[1]\n",
    "                if stat_ids[user_id] >= prof_min:\n",
    "                    idx.append(i)\n",
    "                i += 1\n",
    "    stat_ids = [(user_id, count) for user_id, count in sorted(stat_ids.items(), key=lambda x: x[1])]\n",
    "    return stat_ids, idx\n",
    "\n",
    "stat_ids, idx = get_ids_stat(amazon_movies)\n",
    "stat_dict = dict(stat_ids)\n",
    "\n",
    "with open('stat_dict.json', 'w') as f:\n",
    "    json.dump(stat_dict, f)\n",
    "\n",
    "print(f'Number of reviews that were written by users with >= 100 reviews: {len(idx)}')\n",
    "\n",
    "user_max_review_count = stat_ids[-1][1]\n",
    "\n",
    "print(f'Maximum number of reviews that a user ever wrote: {user_max_review_count}')"
   ]
  },
  {
   "cell_type": "code",
   "execution_count": 7,
   "metadata": {},
   "outputs": [],
   "source": [
    "with open('stat_dict.json') as f:\n",
    "    stat_dict = json.load(f)"
   ]
  },
  {
   "cell_type": "code",
   "execution_count": 7,
   "metadata": {},
   "outputs": [
    {
     "data": {
      "text/plain": [
       "7103"
      ]
     },
     "execution_count": 7,
     "metadata": {},
     "output_type": "execute_result"
    }
   ],
   "source": [
    "# shows the number of reviewers with more than 100 reviews:\n",
    "sum([1 for key, value in stat_dict.items() if value>100])"
   ]
  },
  {
   "cell_type": "markdown",
   "metadata": {},
   "source": [
    "#### 1.2 Converting corpus to csv:"
   ]
  },
  {
   "cell_type": "code",
   "execution_count": 33,
   "metadata": {},
   "outputs": [],
   "source": [
    "def convert_txt_to_csv(path, categories=None, num_reviews=100000, prof_idx=idx):\n",
    "    \"\"\"\n",
    "    7911684 - total number of reviews in the Amazon corpus.\n",
    "    \n",
    "    Because the resulting file is too large (approx. 6 GB), \n",
    "    we choose only a fraction of reviews (resulting in only 85 MB),\n",
    "    where 50% of entries come from professional reviewers and the rest\n",
    "    from users who wrote less than 100 reviews\n",
    "    \"\"\"\n",
    "    \n",
    "    t = time.time()\n",
    "    if categories is None:\n",
    "        categories = ['review/userId', 'review/score', 'review/text']\n",
    "    \n",
    "    prof_indices_pool = np.asarray(prof_idx)\n",
    "    array1 = np.arange(start=1, stop=7911685)    \n",
    "    non_prof_indices_pool = np.setdiff1d(array1, prof_indices_pool) # Unique values in array1 that are not in indices_prof    \n",
    "    \n",
    "    rng = np.random.default_rng(42)\n",
    "    indices_non_prof = rng.choice(non_prof_indices_pool, size=num_reviews//2, replace=False)\n",
    "    indices_prof = rng.choice(prof_indices_pool, size=num_reviews-len(indices_non_prof), replace=False)\n",
    "    print(f'Selected {len(indices_non_prof)} non-prof reviews and {len(indices_prof)} prof reviews...')\n",
    "    \n",
    "    indices = np.sort(np.concatenate((indices_non_prof, indices_prof)))\n",
    "    content_dict = {cat:[] for cat in categories}\n",
    "    user_cat_counter, rev_count, i = 0, 0, 0\n",
    "    current_user = []    \n",
    "    added = True \n",
    "      \n",
    "    with open(path) as f:        \n",
    "        for line in f:\n",
    "            if i == num_reviews:\n",
    "                break\n",
    "            if 'product/productId:' in line:\n",
    "                rev_count += 1\n",
    "                if not added:                    \n",
    "                    i += 1\n",
    "                    user_cat_counter = 0\n",
    "                    current_user = []\n",
    "                    added = True                    \n",
    "                continue                \n",
    "                \n",
    "            if rev_count == indices[i]:\n",
    "                added = False\n",
    "                for cat in categories:\n",
    "                    if cat in line:\n",
    "                        user_cat_counter += 1\n",
    "                        current_user.append((cat, line.split(':')[1].strip()))\n",
    "                        \n",
    "                if user_cat_counter == len(categories):\n",
    "                    added = True\n",
    "                    i += 1\n",
    "                    for key, val in current_user:\n",
    "                        content_dict[key].append(val)\n",
    "                    user_cat_counter = 0\n",
    "                    current_user = []     \n",
    "            \n",
    "    df = pd.DataFrame()\n",
    "    for key in content_dict:\n",
    "        df[key] = content_dict[key]\n",
    "        \n",
    "    save_path = 'corpus_small.csv'\n",
    "    df.to_csv(save_path, index=False, header=False, sep='\\t')\n",
    "    \n",
    "    print(f'Done: {time.time()-t:.2f}s elapsed!')"
   ]
  },
  {
   "cell_type": "code",
   "execution_count": 34,
   "metadata": {
    "scrolled": true
   },
   "outputs": [
    {
     "name": "stdout",
     "output_type": "stream",
     "text": [
      "Selected 50000 non-prof reviews and 50000 prof reviews...\n",
      "Done: 63.90s elapsed!\n"
     ]
    }
   ],
   "source": [
    "convert_txt_to_csv(amazon_movies, prof_idx=idx)"
   ]
  },
  {
   "cell_type": "markdown",
   "metadata": {},
   "source": [
    "#### 1.3 Showing how many users there are in each reviews count bin and checking if proportion of professional/unprofessional reviews is 1:1:"
   ]
  },
  {
   "cell_type": "code",
   "execution_count": 35,
   "metadata": {},
   "outputs": [
    {
     "name": "stdout",
     "output_type": "stream",
     "text": [
      "Number of professional reviews in the small corpus: 50000\n",
      "Number of unprofessional reviews in the small corpus: 50000\n",
      "Number of users in the small corpus: 52779\n"
     ]
    }
   ],
   "source": [
    "ids_small = set()\n",
    "stat_dict = dict(stat_ids)\n",
    "prof, unprof = 0, 0\n",
    "\n",
    "with open(corpus_small, encoding='utf-8') as f:\n",
    "    for line in f:\n",
    "        user_id = line.split('\\t')[0]\n",
    "        if stat_dict[user_id] >= 100:\n",
    "            prof += 1\n",
    "        else:\n",
    "            unprof += 1\n",
    "        if user_id not in ids_small:\n",
    "            ids_small.add(user_id)\n",
    "            \n",
    "stat_ids_small = [(user_id, count) for user_id, count in stat_ids if user_id in ids_small]\n",
    "\n",
    "print(f'Number of professional reviews in the small corpus: {prof}')\n",
    "print(f'Number of unprofessional reviews in the small corpus: {unprof}')\n",
    "print(f'Number of users in the small corpus: {len(stat_ids_small)}')"
   ]
  },
  {
   "cell_type": "code",
   "execution_count": 59,
   "metadata": {},
   "outputs": [
    {
     "name": "stdout",
     "output_type": "stream",
     "text": [
      "Bin 1-20\t31829 users\n",
      "Bin 21-40\t7951 users\n",
      "Bin 41-60\t3225 users\n",
      "Bin 61-80\t1792 users\n",
      "Bin 81-100\t1175 users\n",
      "Bin 100-10793\t6807 users\n"
     ]
    },
    {
     "data": {
      "image/png": "[encoded data removed]",
      "text/plain": [
       "<Figure size 432x288 with 1 Axes>"
      ]
     },
     "metadata": {},
     "output_type": "display_data"
    }
   ],
   "source": [
    "def show_rev_count_dist(stat_ids, end=100, step=20, maximum=user_max_review_count):\n",
    "    \"\"\"\n",
    "    The function generates a plot that shows the proportions of how many people wrote that many reviews\n",
    "    \"\"\"\n",
    "    xy = {f'{i}-{i+step-1}':0 for i in range(1,end,step)}\n",
    "    xy[f'{end}-{maximum}'] = 0   \n",
    "    \n",
    "    most_common_users = stat_ids[::-1]        \n",
    "    for user_id, count in most_common_users:\n",
    "        for rng in xy:\n",
    "            splitted = rng.split('-')\n",
    "            lower = int(splitted[0])\n",
    "            upper = int(splitted[1])\n",
    "            if count >= lower and count <= upper:\n",
    "                xy[rng] += 1\n",
    "                break\n",
    "                \n",
    "    total_count = 0\n",
    "    for abin, count in xy.items():\n",
    "        print(f'Bin {abin}\\t{count} users')\n",
    "        total_count += count\n",
    "\n",
    "    sizes = [int(100*count/total_count) for abin, count in xy.items()]\n",
    "    explode = (0.1, 0, 0, 0, 0, 0.1)\n",
    "    \n",
    "    fig1, ax1 = plt.subplots()\n",
    "    ax1.pie(sizes, explode=explode, labels=list(xy.keys()), autopct='%1.1f%%', \n",
    "            shadow=True, startangle=230, rotatelabels=True)\n",
    "    ax1.axis('equal')  # Equal aspect ratio ensures that pie is drawn as a circle.\n",
    "\n",
    "    plt.show()\n",
    "    \n",
    "show_rev_count_dist(stat_ids_small)"
   ]
  },
  {
   "cell_type": "markdown",
   "metadata": {},
   "source": [
    "<h3><center>2. Obtaining metadata for conditioning LM</center></h3>"
   ]
  },
  {
   "cell_type": "markdown",
   "metadata": {},
   "source": [
    "#### 2.0 Checking the score range:\n",
    "(to make sure the scores range from 1 to 5)"
   ]
  },
  {
   "cell_type": "code",
   "execution_count": 65,
   "metadata": {},
   "outputs": [
    {
     "name": "stdout",
     "output_type": "stream",
     "text": [
      "Scores: {1.0, 2.0, 3.0, 4.0, 5.0}\n",
      "Failed: 0, Examples: []\n"
     ]
    }
   ],
   "source": [
    "def show_score_range(path_to_csv):\n",
    "    scores = set()\n",
    "    failed = 0\n",
    "    failed_list = []\n",
    "    \n",
    "    with open(path_to_csv) as f:\n",
    "        for line in f:\n",
    "            splitted = line.split('\\t')\n",
    "            try:\n",
    "                score = float(splitted[1])\n",
    "                if score not in scores:\n",
    "                    scores.add(score)\n",
    "            except ValueError:\n",
    "                failed += 1\n",
    "                failed_list.append(splitted[1])\n",
    "                \n",
    "    print(f'Scores: {scores}\\nFailed: {failed}, Examples: {failed_list}')\n",
    "    \n",
    "show_score_range(corpus_small)"
   ]
  },
  {
   "cell_type": "markdown",
   "metadata": {},
   "source": [
    "#### 2.1 Collecting metadata:"
   ]
  },
  {
   "cell_type": "code",
   "execution_count": 5,
   "metadata": {},
   "outputs": [],
   "source": [
    "class MetadataExtractor:\n",
    "    \"\"\"\n",
    "    Extracts following metadata from the review sentences (18 labels in total):\n",
    "    \n",
    "    !!! DISCLAIMER:\n",
    "    NOTE: '0' IS NOT USED BECAUSE IT IS RESERVED FOR PADDING SUBWORD TOKENS\n",
    "    !!!\n",
    "    \n",
    "        1. If the reviewer is a professional:\n",
    "            - based on \"stat_dict\" from section 1.1:\n",
    "                False -> '1'\n",
    "                True -> '2'\n",
    "        2. Sentiment:\n",
    "            - negative (1, 2 -> '3'), neutral (3 -> '4'), positive (4, 5 -> '5') \n",
    "        3. Length in tokens:\n",
    "            - ≤10 -> '6', 11-20 -> '7', 21-40 -> '8', >40 -> '9'\n",
    "        4. Personal:\n",
    "            - True (if ('I' or 'my') in sentence) -> '11', False (otherwise) -> '10'\n",
    "        5. Theme:\n",
    "            - '12' - plot, '13' - acting, '14' - production, '15' - effects, '16' - other (based on word lists)\n",
    "        6. Descriptive:\n",
    "            - True (if 35% POS-tags are ADJ) -> Bad boundary, changed to 25% -> '18'\n",
    "            - False -> '17'\n",
    "    \"\"\"\n",
    "    \n",
    "    def __init__(self, path, path_to_themes, path_to_stat_dict='stat_dict.json'):\n",
    "        self.path = path\n",
    "        \n",
    "        with open(path_to_themes) as f:\n",
    "            text = f.read().split('\\n')\n",
    "            self.theme2int = {'plot':'12', 'acting':'13', 'production':'14', 'effects':'15'}            \n",
    "            self.themes_dict = {theme_word:self.theme2int[theme_word_list.split(',')[0]]\n",
    "                                for theme_word_list in text for theme_word in theme_word_list.split(',')[1:]} \n",
    "            \n",
    "        self.nlp = spacy.load('en_core_web_sm')\n",
    "        self.no_model_nlp = English()\n",
    "        self.sentencizer = self.no_model_nlp.create_pipe('sentencizer')\n",
    "        self.no_model_nlp.add_pipe(self.sentencizer)\n",
    "        \n",
    "        with open(path_to_stat_dict) as f:\n",
    "            self.stat_dict = json.load(f)\n",
    "        self.transl_table = str.maketrans(';123456789', '.000000000', \n",
    "                                          rf'\"#%()*+/:=>@[\\]_`|{chr(147)}{chr(148)}§«º»№')\n",
    "        \n",
    "        self.pat1 = re.compile('<.*?>')\n",
    "        self.pat2 = re.compile('&.*?;')\n",
    "    \n",
    "    def clean_review(self, review):        \n",
    "        review = self.pat1.sub('', review) # deletes all '<br />'-like markdown        \n",
    "        review = self.pat2.sub('', review) # deletes some other md\n",
    "        review = review.translate(self.transl_table)\n",
    "        review = review.replace(' --', ',').replace('\"\"', '\"').replace('  ', ' ')\n",
    "        \n",
    "        return review\n",
    "    \n",
    "    def split_into_sents(self, review):        \n",
    "        doc = self.no_model_nlp(review)\n",
    "        sents = [sent.text for sent in doc.sents]\n",
    "\n",
    "        return sents\n",
    "    \n",
    "    def ext_professional(self, pro, num_sents):\n",
    "        return [str(int(self.stat_dict[pro] >= 100) + 1)]*num_sents\n",
    "    \n",
    "    def ext_sentiment(self, score, num_sents):\n",
    "        if score == '4.0' or score == '5.0':\n",
    "            sentiment = '5'\n",
    "        elif score == '3.0':\n",
    "            sentiment = '4'\n",
    "        else:\n",
    "            sentiment = '3'\n",
    "        return [sentiment]*num_sents\n",
    "    \n",
    "    def ext_length(self, review_sents_tokens):\n",
    "        \"\"\"≤10, 11-20, 21-40, >40\"\"\"\n",
    "        length = []\n",
    "        \n",
    "        for sent_tokens in review_sents_tokens:\n",
    "            num_tokens = len(sent_tokens)\n",
    "            if num_tokens <= 10:\n",
    "                length.append('6')\n",
    "            elif num_tokens >= 11 and num_tokens <= 20:\n",
    "                length.append('7')\n",
    "            elif num_tokens >= 21 and num_tokens <= 40:\n",
    "                length.append('8')\n",
    "            else:\n",
    "                length.append('9')\n",
    "                \n",
    "        return length  \n",
    "    \n",
    "    def ext_personal(self, review_sents_tokens):\n",
    "        \"\"\"'11' - personal, '10' - not personal\"\"\"\n",
    "        personal_markers = set(['I', 'my', 'i'])\n",
    "        personal = []\n",
    "        for sent in review_sents_tokens:\n",
    "            found = False\n",
    "            for token in sent:\n",
    "                if token in personal_markers:\n",
    "                    personal.append('11')\n",
    "                    found = True\n",
    "                    break\n",
    "            if not found:\n",
    "                personal.append('10')\n",
    "        return personal\n",
    "    \n",
    "    def ext_themes(self, review_sents_tokens):\n",
    "        \"\"\"'12' - plot, '13' - acting, '14' - production, '15' - effects, '16' - other\"\"\"\n",
    "        themes = []\n",
    "        for sent_tokens in review_sents_tokens:\n",
    "            theme_counter = {theme:0 for theme in set(self.themes_dict.values())}\n",
    "            for token in sent_tokens:\n",
    "                if token in self.themes_dict:\n",
    "                    theme_counter[self.themes_dict[token]] += 1\n",
    "\n",
    "            best_theme = max(theme_counter.items(), key=operator.itemgetter(1))\n",
    "            if best_theme[1] == 0:\n",
    "                themes.append('16')\n",
    "            else: \n",
    "                themes.append(best_theme[0])\n",
    "        \n",
    "        return themes\n",
    "    \n",
    "    def ext_descriptive(self, review_pos_list, descr_boundary=0.25):\n",
    "        \"\"\"'1' - descriptive, '0' - not descriptive\"\"\"\n",
    "        descriptive = [str(int(sent_pos.count('ADJ')/len(sent_pos)>=descr_boundary)+17) # 16 labels before this one + 1 reserved\n",
    "                       for sent_pos in review_pos_list]\n",
    "        return descriptive        \n",
    "            \n",
    "    def extract_all(self, save_to='corpus_small_annotated.csv', plot_length=True):\n",
    "        \"\"\"Extracts all necessary metadata using some small helper-functions\"\"\"\n",
    "        corpus_dict = {'sents_by_reviews':[],\n",
    "                       'meta_by_reviews':[]}\n",
    "        if plot_length:\n",
    "            length_list = []            \n",
    "            \n",
    "        with open(save_to, 'w', encoding='utf-8', errors='ignore') as csv:\n",
    "            print('Review', 'Sentence', 'Professional', 'Sentiment', 'Length', 'Personal', 'Theme', 'Descriptive', file=csv, sep='\\t')\n",
    "            idx = 0\n",
    "            with open(self.path, encoding='utf-8', errors='ignore') as f:\n",
    "                for _, line in zip(tqdm(range(100000)), f): # uncomment!\n",
    "                #for i in range(500): # delete!\n",
    "                    #line = next(f)# delete!\n",
    "                    split_line = line.split('\\t')\n",
    "                    if len(split_line[-1]) > 1:\n",
    "                        review = self.clean_review(split_line[-1])               \n",
    "                        review_sents = self.split_into_sents(review)\n",
    "                        review_sents = [sent.strip() for sent in review_sents if sent.strip()]\n",
    "\n",
    "                        docs = list(self.nlp.pipe(review_sents, disable=['parser', 'ner', 'textcat']))\n",
    "                        review_pos_list = [[token.pos_ for token in doc] for doc in docs]\n",
    "                        review_sents_tokens = [[token.text for token in doc] for doc in docs]\n",
    "                        num_sents = len(review_sents)\n",
    "\n",
    "                        rev_pro = self.ext_professional(split_line[0], num_sents)\n",
    "                        rev_senti = self.ext_sentiment(split_line[1], num_sents)\n",
    "                        rev_length = self.ext_length(review_sents_tokens)\n",
    "                        rev_pers = self.ext_personal(review_sents_tokens)\n",
    "                        rev_theme = self.ext_themes(review_sents_tokens)\n",
    "                        rev_descr = self.ext_descriptive(review_pos_list)\n",
    "\n",
    "                        if plot_length:\n",
    "                            length_list += [len(sent_tokens) for sent_tokens in review_sents_tokens]\n",
    "                            \n",
    "                        review_sents = [sent.lower() for sent in review_sents]\n",
    "                        for data in zip(review_sents, rev_pro, rev_senti, rev_length, rev_pers, rev_theme, rev_descr):\n",
    "                            data_list = '\\t'.join(list(data))\n",
    "                            line_to_print = f'{idx}\\t{data_list}'\n",
    "                            print(line_to_print, file=csv)\n",
    "                            \n",
    "                        corpus_dict['sents_by_reviews'].append(review_sents)\n",
    "                        corpus_dict['meta_by_reviews'].append([])\n",
    "                        for meta in zip(rev_pro, rev_senti, rev_length, rev_pers, rev_theme, rev_descr):\n",
    "                            meta_list = list(meta)\n",
    "                            meta_list =  [int(el) for el in meta_list]\n",
    "                            corpus_dict['meta_by_reviews'][-1].append(meta_list)\n",
    "\n",
    "                        idx += 1\n",
    "        with open(save_to_path(save_to, extension_of_old='.csv', extension_of_new='.json'), 'w') as f:\n",
    "            json.dump(corpus_dict, f)\n",
    "            \n",
    "        if plot_length:        \n",
    "            fig, ax = plt.subplots(figsize=(8,6))\n",
    "            length_list = np.log(np.array(length_list))/np.log(2)\n",
    "            \n",
    "            hist, bin_edges = np.histogram(length_list)\n",
    "            bin_edges = np.round(bin_edges, 0)\n",
    "            \n",
    "            #n, bins, patches = ax.hist(length_list, bins='auto', density=False, alpha=0.75, color='g', rwidth=0.85)\n",
    "            ax.bar(bin_edges[:-1], hist, alpha=0.75, color='g')\n",
    "            \n",
    "            ticks = list(range(9))\n",
    "            ax.set_xlim(min(bin_edges), 9) # 2**9 = 512\n",
    "            ax.set_xticks(ticks)\n",
    "            ax.set_xlabel('log2(Length of Sentences)')\n",
    "            ax.set_ylabel('Frequency')\n",
    "            \n",
    "            plt.savefig('length_hist.png')\n",
    "            plt.show()"
   ]
  },
  {
   "cell_type": "code",
   "execution_count": 6,
   "metadata": {
    "scrolled": false
   },
   "outputs": [
    {
     "name": "stderr",
     "output_type": "stream",
     "text": [
      "100%|██████████████████████████████████████████████████████| 100000/100000 [30:12<00:00, 55.19it/s]\n"
     ]
    },
    {
     "data": {
      "image/png": "[encoded data removed]",
      "text/plain": [
       "<Figure size 576x432 with 1 Axes>"
      ]
     },
     "metadata": {},
     "output_type": "display_data"
    }
   ],
   "source": [
    "ext = MetadataExtractor(path=corpus_small, path_to_themes='themes.txt')\n",
    "ext.extract_all(save_to=corpus_small_annotated, plot_length=True)"
   ]
  },
  {
   "cell_type": "markdown",
   "metadata": {},
   "source": [
    "<h3><center>3. Some preprocessing before creating an LM</center></h3>"
   ]
  },
  {
   "cell_type": "markdown",
   "metadata": {},
   "source": [
    "#### 3.0.1 Loading the annotated corpus:"
   ]
  },
  {
   "cell_type": "code",
   "execution_count": 6,
   "metadata": {
    "scrolled": true
   },
   "outputs": [
    {
     "data": {
      "text/html": [
       "<div>\n",
       "<style scoped>\n",
       "    .dataframe tbody tr th:only-of-type {\n",
       "        vertical-align: middle;\n",
       "    }\n",
       "\n",
       "    .dataframe tbody tr th {\n",
       "        vertical-align: top;\n",
       "    }\n",
       "\n",
       "    .dataframe thead th {\n",
       "        text-align: right;\n",
       "    }\n",
       "</style>\n",
       "<table border=\"1\" class=\"dataframe\">\n",
       "  <thead>\n",
       "    <tr style=\"text-align: right;\">\n",
       "      <th></th>\n",
       "      <th>Sentence</th>\n",
       "      <th>Professional</th>\n",
       "      <th>Sentiment</th>\n",
       "      <th>Length</th>\n",
       "      <th>Personal</th>\n",
       "      <th>Theme</th>\n",
       "      <th>Descriptive</th>\n",
       "    </tr>\n",
       "    <tr>\n",
       "      <th>Review</th>\n",
       "      <th></th>\n",
       "      <th></th>\n",
       "      <th></th>\n",
       "      <th></th>\n",
       "      <th></th>\n",
       "      <th></th>\n",
       "      <th></th>\n",
       "    </tr>\n",
       "  </thead>\n",
       "  <tbody>\n",
       "    <tr>\n",
       "      <th>0</th>\n",
       "      <td>i have the doo wop 00 and 00 dvds, and was anx...</td>\n",
       "      <td>1</td>\n",
       "      <td>5</td>\n",
       "      <td>8</td>\n",
       "      <td>11</td>\n",
       "      <td>16</td>\n",
       "      <td>17</td>\n",
       "    </tr>\n",
       "    <tr>\n",
       "      <th>0</th>\n",
       "      <td>from the first video, which featured the crme ...</td>\n",
       "      <td>1</td>\n",
       "      <td>5</td>\n",
       "      <td>8</td>\n",
       "      <td>10</td>\n",
       "      <td>14</td>\n",
       "      <td>17</td>\n",
       "    </tr>\n",
       "    <tr>\n",
       "      <th>0</th>\n",
       "      <td>better lighting, better stage layout, and bett...</td>\n",
       "      <td>1</td>\n",
       "      <td>5</td>\n",
       "      <td>7</td>\n",
       "      <td>10</td>\n",
       "      <td>15</td>\n",
       "      <td>18</td>\n",
       "    </tr>\n",
       "  </tbody>\n",
       "</table>\n",
       "</div>"
      ],
      "text/plain": [
       "                                                 Sentence  Professional  \\\n",
       "Review                                                                    \n",
       "0       i have the doo wop 00 and 00 dvds, and was anx...             1   \n",
       "0       from the first video, which featured the crme ...             1   \n",
       "0       better lighting, better stage layout, and bett...             1   \n",
       "\n",
       "        Sentiment  Length  Personal  Theme  Descriptive  \n",
       "Review                                                   \n",
       "0               5       8        11     16           17  \n",
       "0               5       8        10     14           17  \n",
       "0               5       7        10     15           18  "
      ]
     },
     "execution_count": 6,
     "metadata": {},
     "output_type": "execute_result"
    }
   ],
   "source": [
    "sentences_df = pd.read_csv(corpus_small_annotated, sep='\\t', header=0, \n",
    "                           encoding='utf-8', warn_bad_lines=True, index_col=0)\n",
    "sentences_df['Sentence'] = sentences_df['Sentence'].astype(str).str.lower()\n",
    "\n",
    "sentences_df.head(3)"
   ]
  },
  {
   "cell_type": "markdown",
   "metadata": {},
   "source": [
    "#### 3.0.2 Showing some statistics about collected metadata:"
   ]
  },
  {
   "cell_type": "code",
   "execution_count": 5,
   "metadata": {
    "scrolled": true
   },
   "outputs": [
    {
     "data": {
      "image/png": "[encoded data removed]",
      "text/plain": [
       "<Figure size 720x504 with 7 Axes>"
      ]
     },
     "metadata": {},
     "output_type": "display_data"
    }
   ],
   "source": [
    "\"\"\" Plotting with standard labels:\n",
    "fig, ax = plt.subplots(figsize=(10, 7))\n",
    "ax.axis(\"off\")\n",
    "\n",
    "for i, col in enumerate(sentences_meta.columns, 1):\n",
    "    new_ax = fig.add_subplot(2, 3, i)\n",
    "    plot = sentences_meta[col].value_counts().plot.pie(autopct='%1.1f%%', \n",
    "                                                       shadow=True)\n",
    "    new_ax.set_title(col, loc='left', fontsize=14)\n",
    "    new_ax.set_ylabel(None)\n",
    "\n",
    "plt.show()\n",
    "\"\"\"\n",
    "sentences_meta = sentences_df.iloc[:, 1:]\n",
    "fig, ax = plt.subplots(figsize=(10, 7))\n",
    "ax.axis(\"off\")\n",
    "\n",
    "# Ordering determined empirically by plotting with standard labels:\n",
    "labels = [['Yes', 'No'], # Professional\n",
    "          [ 'Positive', 'Negative', 'Neutral'], # Sentiment\n",
    "          ['11-20', '21-40', '<10', '>40'], # Length\n",
    "          ['No', 'Yes'], # Personal\n",
    "          ['Other', 'Plot', 'Acting', 'Effects', 'Production'], # Theme: '0' - plot, '1' - acting, '2' - production, '3' - effects, '4' - other\"\"\"\n",
    "          ['No', 'Yes']] # Descriptive\n",
    "\n",
    "rotatelabels = [False, False, False, False, False, False]\n",
    "startangle = [200, 200, 90, 200, 30, 324] # 90 for 3rd\n",
    "explode = [(0.1, 0), (0.1, 0, 0), (0.1, 0, 0, 0), (0, 0.1), (0.1, 0, 0, 0, 0.1), (0, 0)]\n",
    "colors = [None, None, None, None, [None, 'darkorange', 'g', 'paleturquoise', 'lightcyan'], None]\n",
    "\n",
    "for i, col in enumerate(sentences_meta.columns):\n",
    "    new_ax = fig.add_subplot(2, 3, i+1)\n",
    "    plot = sentences_meta[col].value_counts().plot.pie(autopct='%1.0f%%', \n",
    "                                                       shadow=True,\n",
    "                                                       explode=explode[i],\n",
    "                                                       labels=labels[i],\n",
    "                                                       colors=colors[i],\n",
    "                                                       startangle=startangle[i], \n",
    "                                                       rotatelabels=rotatelabels[i],\n",
    "                                                       fontsize=14)\n",
    "    new_ax.set_title(col +':', loc='left', fontsize=16, fontweight='bold')\n",
    "    new_ax.set_ylabel(None)\n",
    "\n",
    "plt.show()   "
   ]
  },
  {
   "cell_type": "markdown",
   "metadata": {},
   "source": [
    "#### 3.0.3 Creating dictionary using Byte Pair Encoding (Sennrich (2016) algorithm):"
   ]
  },
  {
   "cell_type": "code",
   "execution_count": 6,
   "metadata": {},
   "outputs": [],
   "source": [
    "class BytePairEncoding:\n",
    "    \"\"\"\n",
    "    A method to deal with a huge vocabulary by dividing words into subwords\n",
    "    and then consequently merging the most frequent pair of subwords into \n",
    "    one subword.\n",
    "    \n",
    "    vocab_size=30469 <- this value is used in Ficler, Goldberg (2017)\n",
    "    \n",
    "    The implementation follows precisely Sennrich (2016).\n",
    "    \"\"\"\n",
    "    \n",
    "    def __init__(self, sents):\n",
    "        self.sents = sents\n",
    "        self.final_dict = None\n",
    "        \n",
    "    def __get_vocab(self, sents) -> dict:\n",
    "        \n",
    "        words = [' '.join(word) + ' </w>' for sentence in sents\n",
    "                 for word in sentence.split()]\n",
    "        \n",
    "        return Counter(words)\n",
    "    \n",
    "    def __get_pair_counts(self, vocab) -> dict:\n",
    "        \n",
    "        pairs_dict = defaultdict(int)\n",
    "        for word, freq in vocab.items():\n",
    "            letters = word.split()\n",
    "            for i in range(len(letters)-1):\n",
    "                pairs_dict[(letters[i], letters[i+1])] += freq\n",
    "                \n",
    "        return pairs_dict\n",
    "    \n",
    "    def __merge_most_freq_pair(self, pair, vocab_to_update):\n",
    "        vocab_updated = {}\n",
    "        #pairs_sorted = [(pair, freq) for pair, freq in sorted(pairs_dict.items(), key=lambda x:x[1], reverse=True)]\n",
    "    \n",
    "        pair_escaped = re.escape(' '.join(pair))\n",
    "        pat = re.compile(r'(?<!\\S)' + pair_escaped + r'(?!\\S)')\n",
    "\n",
    "        for word in vocab_to_update:\n",
    "            # replace most frequent pair in all vocabulary\n",
    "            word_updated = pat.sub(''.join(pair), word)\n",
    "            vocab_updated[word_updated] = vocab_to_update[word]\n",
    "            \n",
    "        return vocab_updated\n",
    "    \n",
    "    def encode(self, num_iter=50, save_json=True):\n",
    "        \n",
    "        vocab_to_update = self.__get_vocab(self.sents)\n",
    "        print(f'Raw vocabulary length: {len(vocab_to_update)}')\n",
    "        pairs_dict_lenghts = []      \n",
    "        \n",
    "        for i in range(num_iter):\n",
    "            pairs_dict = self.__get_pair_counts(vocab_to_update)\n",
    "            pairs_dict_lenghts.append(len(pairs_dict))\n",
    "            if not pairs_dict :\n",
    "                print('No pairs found in the provided corpus!', file=sys.stderr)\n",
    "                \n",
    "            most_freq_pair = max(pairs_dict, key=pairs_dict.get)\n",
    "            vocab_to_update = self.__merge_most_freq_pair(most_freq_pair, vocab_to_update)\n",
    "            \n",
    "        print(f'Pairs at the start: {pairs_dict_lenghts[0]}\\nPairs at the end: {pairs_dict_lenghts[-1]}')    \n",
    "        if save_json:\n",
    "            with open('bytepairvocab.json', 'w') as f:\n",
    "                json.dump(vocab_to_update, f)\n",
    "                \n",
    "        #return vocab_to_update"
   ]
  },
  {
   "cell_type": "code",
   "execution_count": 7,
   "metadata": {},
   "outputs": [
    {
     "name": "stdout",
     "output_type": "stream",
     "text": [
      "Raw vocabulary length: 330686\n",
      "Pairs at the start: 1617\n",
      "Pairs at the end: 1617\n"
     ]
    }
   ],
   "source": [
    "bytepair = BytePairEncoding(sentences_df['Sentence'])\n",
    "bytepair.encode(num_iter=1, save_json=False)"
   ]
  },
  {
   "cell_type": "markdown",
   "metadata": {},
   "source": [
    "#### 3.1 Creating dictionary using a faster BPE algorithm:"
   ]
  },
  {
   "cell_type": "code",
   "execution_count": 7,
   "metadata": {},
   "outputs": [
    {
     "data": {
      "text/plain": [
       "CompletedProcess(args='yttm bpe --data sentences.txt --model bpe.model --vocab_size 30469', returncode=0)"
      ]
     },
     "execution_count": 7,
     "metadata": {},
     "output_type": "execute_result"
    }
   ],
   "source": [
    "vocab_size = 30469 # 30469 - standard, 10000 - small, 20000 - medium\n",
    "with open(csa_json) as f:\n",
    "    revs = json.load(f)['sents_by_reviews']\n",
    "    \n",
    "revs = [sent for rev in revs for sent in rev]\n",
    "\n",
    "with open(sentences, 'w', encoding='utf-8') as f:\n",
    "    for sent in revs:\n",
    "        f.write(sent + ' ')\n",
    "del revs\n",
    "\n",
    "command = f'yttm bpe --data {sentences} --model {bpe_model} --vocab_size {vocab_size}' # bpe_model\n",
    "subprocess.run(command, check=True)"
   ]
  },
  {
   "cell_type": "markdown",
   "metadata": {},
   "source": [
    "#### Some encoding/decoding usage example:"
   ]
  },
  {
   "cell_type": "code",
   "execution_count": 8,
   "metadata": {},
   "outputs": [
    {
     "name": "stdout",
     "output_type": "stream",
     "text": [
      "[[86, 216, 87, 9060, 90, 262, 252, 109, 252, 3269], [86, 216, 336, 1715, 298, 138, 122]]\n",
      "[['▁i', '▁have', '▁the', '▁doo', '▁w', 'op', '▁00', '▁and', '▁00', '▁dvds'], ['▁i', '▁have', '▁no', '▁idea', '▁if', '▁this', '▁is']]\n",
      "fromom\n",
      "▁fromom\n"
     ]
    }
   ],
   "source": [
    "# Loading model\n",
    "bpe = yttm.BPE(model=bpe_model)\n",
    "test_text = ['i have the doo wop 00 and 00 dvds' , 'i have no idea if this is']\n",
    "\n",
    "# Two types of tokenization\n",
    "print(bpe.encode(test_text, output_type=yttm.OutputType.ID))\n",
    "print(bpe.encode(test_text, output_type=yttm.OutputType.SUBWORD))\n",
    "print(bpe.decode([254, 123])[0])  \n",
    "print(''.join([bpe.id_to_subword(254), bpe.id_to_subword(123)])) # that is why we will use bpe.decode instead to circumvent generating '▁' before a subword"
   ]
  },
  {
   "cell_type": "markdown",
   "metadata": {},
   "source": [
    "<h3><center>4. Creating a language model</center></h3>"
   ]
  },
  {
   "cell_type": "markdown",
   "metadata": {},
   "source": [
    "#### 4.0.1  Small imports list (for training):"
   ]
  },
  {
   "cell_type": "code",
   "execution_count": 8,
   "metadata": {},
   "outputs": [
    {
     "name": "stdout",
     "output_type": "stream",
     "text": [
      "Training on GPU!\n"
     ]
    }
   ],
   "source": [
    "from collections import Counter, defaultdict\n",
    "import numpy as np; np.random.seed(42)\n",
    "import youtokentome as yttm\n",
    "from copy import deepcopy\n",
    "from tqdm import tqdm\n",
    "import subprocess\n",
    "import itertools\n",
    "import operator\n",
    "import os, sys\n",
    "import random\n",
    "import shutil\n",
    "import json\n",
    "import time\n",
    "import re\n",
    "import gc\n",
    "\n",
    "import torch\n",
    "from torch import nn\n",
    "import torch.nn.functional as F\n",
    "from torch.nn.utils.rnn import pad_sequence, pad_packed_sequence, pack_padded_sequence\n",
    "\n",
    "# check if GPU is available\n",
    "train_on_gpu = torch.cuda.is_available()\n",
    "#train_on_gpu = False\n",
    "if train_on_gpu:\n",
    "    print('Training on GPU!')\n",
    "else: \n",
    "    print('No GPU available, training on CPU!')"
   ]
  },
  {
   "cell_type": "markdown",
   "metadata": {},
   "source": [
    "#### 4.0.2 Indexing the corpus into train/test/dev sets:"
   ]
  },
  {
   "cell_type": "code",
   "execution_count": 9,
   "metadata": {
    "scrolled": true
   },
   "outputs": [
    {
     "name": "stdout",
     "output_type": "stream",
     "text": [
      "Training set: 97998 reviews\n",
      "Test set: 2000 reviews\n"
     ]
    }
   ],
   "source": [
    "with open(csa_json) as f:\n",
    "    dic = json.load(f)\n",
    "    sents_by_reviews = dic['sents_by_reviews']\n",
    "    meta_by_reviews = dic['meta_by_reviews']\n",
    "    del dic\n",
    "\n",
    "corpus_len = len(sents_by_reviews)\n",
    "array = np.arange(start=0, stop=corpus_len) # sentence indices range   \n",
    "\n",
    "rng = np.random.default_rng(42)\n",
    "train_size = int(0.98*corpus_len)\n",
    "test_size = corpus_len - train_size\n",
    "                 \n",
    "train_set_idx = rng.choice(array, size=train_size, replace=False)\n",
    "\n",
    "test_set_idx = np.setdiff1d(array, train_set_idx) # Unique values in array1 that are not in train_set_idx\n",
    "\n",
    "print(f'Training set: {train_size} reviews\\nTest set: {test_size} reviews')\n",
    "\n",
    "# Some sanity checks:\n",
    "assert len(train_set_idx) == train_size\n",
    "assert len(test_set_idx) == test_size"
   ]
  },
  {
   "cell_type": "markdown",
   "metadata": {},
   "source": [
    "#### 4.0.3 Encoding sentences using the trained BPE-model:"
   ]
  },
  {
   "cell_type": "code",
   "execution_count": 10,
   "metadata": {},
   "outputs": [
    {
     "name": "stdout",
     "output_type": "stream",
     "text": [
      "Byte Pair Encoding for the 1st review:\n",
      " [217, 2855, 482, 126, 170, 4118, 29044, 86, 1253, 767, 115, 340, 898, 186, 482, 126, 170, 1304, 142, 84, 1018, 1627, 86, 764, 1738, 1527, 505, 3, 87, 2237, 800, 950, 593, 305, 5367, 126, 3810, 186, 86, 6560, 120, 276, 867, 86, 530, 5713, 3974, 109, 4156, 2666, 329, 4065, 4266, 3, 86, 170, 192, 17095, 448, 3, 310, 7066, 305, 170, 87, 4120, 120, 87, 510, 1021, 689, 493, 1650, 6225, 1943, 35, 3777, 87, 14839, 2159, 11504, 24, 245, 92, 456, 354, 109, 980, 26, 3, 21504, 6457, 19121, 87, 9748, 27, 2061, 2078, 16363, 3, 86, 4122, 319, 120, 5681, 1112, 138, 444, 109, 14173, 1233, 4821, 297, 1988, 3, 315, 84, 292, 4587, 87, 3623, 113, 87, 1954, 3185, 493, 1552, 3185, 170, 26510, 7196, 3]\n",
      "\n",
      "Metadata for the first 10 subwords of the 1st review:\n",
      " [[1, 5, 8, 11, 12, 17], [1, 5, 8, 11, 12, 17], [1, 5, 8, 11, 12, 17], [1, 5, 8, 11, 12, 17], [1, 5, 8, 11, 12, 17], [1, 5, 8, 11, 12, 17], [1, 5, 8, 11, 12, 17], [1, 5, 8, 11, 12, 17], [1, 5, 8, 11, 12, 17], [1, 5, 8, 11, 12, 17]]\n",
      "\n",
      "Subwords: ['<PAD>', '<UNK>', '<BOS>', '<EOS>', '▁', 'e', 't', 'a', 'i', 'o'],\n",
      "30469 subwords in total\n",
      "\n"
     ]
    }
   ],
   "source": [
    "# Getting metadata for every subword in a review:\n",
    "def format_metadata(encoded, metadata):\n",
    "    metadata_bysw = []\n",
    "    for i, review in enumerate(encoded):\n",
    "        metadata_bysw.append([])\n",
    "        for j, sent in enumerate(review):\n",
    "            for sw in sent:\n",
    "                metadata_bysw[i].append(metadata[i][j])\n",
    "                \n",
    "    return metadata_bysw\n",
    "\n",
    "# Dividing the list of sentences into train and test sets:\n",
    "sents_list_train = [sents_by_reviews[idx] for idx in train_set_idx]\n",
    "sents_list_test = [sents_by_reviews[idx] for idx in test_set_idx]\n",
    "\n",
    "# Dividing the list with the metadata into train and test sets:\n",
    "metadata_train = [meta_by_reviews[idx] for idx in train_set_idx]\n",
    "metadata_test = [meta_by_reviews[idx] for idx in test_set_idx]\n",
    "\n",
    "# Loading our Byte Pair Encoding model and initialising its vocabulary:\n",
    "bpe = yttm.BPE(model=bpe_model)\n",
    "subwords = bpe.vocab()\n",
    "\n",
    "# Encoding the sentences in the training set: \n",
    "encoded_train = [bpe.encode(sents, output_type=yttm.OutputType.ID, eos=True) for sents in sents_list_train]\n",
    "metadata_train = format_metadata(encoded_train, metadata_train)\n",
    "\n",
    "# Flattening the list for each subword in every sentence of every review because after the metadata is collected \n",
    "# we don't need sentence boundaries represented in the list structure any more:  \n",
    "encoded_train = [[sw for sent in review for sw in sent] for review in encoded_train]\n",
    "\n",
    "# Doing the same on the test set: \n",
    "encoded_test = [bpe.encode(sents, output_type=yttm.OutputType.ID, eos=True) for sents in sents_list_test]\n",
    "metadata_test = format_metadata(encoded_test, metadata_test)\n",
    "encoded_test = [[sw for sent in review for sw in sent] for review in encoded_test]\n",
    "\n",
    "print('Byte Pair Encoding for the 1st review:\\n', encoded_train[0])\n",
    "print('\\nMetadata for the first 10 subwords of the 1st review:\\n', metadata_train[0][:10])\n",
    "print(f'\\nSubwords: {subwords[:10]},\\n{len(subwords)} subwords in total\\n')"
   ]
  },
  {
   "cell_type": "markdown",
   "metadata": {},
   "source": [
    "#### A sanity check that the review data and the correspoding metadata shapes are not messed up: "
   ]
  },
  {
   "cell_type": "code",
   "execution_count": 11,
   "metadata": {
    "scrolled": true
   },
   "outputs": [
    {
     "name": "stdout",
     "output_type": "stream",
     "text": [
      "0\n",
      "[]\n"
     ]
    }
   ],
   "source": [
    "assert len(encoded_train) == len(metadata_train)\n",
    "false_indices = []\n",
    "real_lens = []\n",
    "for idx, (rev, meta) in enumerate(zip(encoded_train, metadata_train)):\n",
    "    if len(rev) != len(meta):\n",
    "        false_indices.append(idx)\n",
    "        real_lens.append((len(rev), len(meta)))\n",
    "print(len(false_indices))\n",
    "print(real_lens)"
   ]
  },
  {
   "cell_type": "markdown",
   "metadata": {},
   "source": [
    "#### 4.1.0 Function for creating equal-sized batches:"
   ]
  },
  {
   "cell_type": "code",
   "execution_count": 12,
   "metadata": {
    "scrolled": true
   },
   "outputs": [
    {
     "name": "stdout",
     "output_type": "stream",
     "text": [
      "X of torch.Size([16, 51]):\n",
      " tensor([[  997,   138,   479,     3,    86,   397,   109,  4562,  1237,   505],\n",
      "        [  138,   122,    87,   406,   165,   886,   606,   560,   145,   266],\n",
      "        [   86,   170,    84,   562,  3677,     3,    86,  1035,    87,  5294],\n",
      "        [  267, 11784,  2267,  3942,  6624,   109,    86,   288,  1544,   276],\n",
      "        [   87,   440,   113,    87,  1741,    38,    19, 23417,  1516,     3],\n",
      "        [16967,   185,   163,  1023, 16967, 22859,   120,    87,   778, 29510],\n",
      "        [  626,   122,    87,  4787,   120,    87,  1861,   113,    87,  6986],\n",
      "        [  267,   510,   708,  2697,   376,   530,   138,   165,   109,   216]])\n",
      "\n",
      "Y of torch.Size([16, 51]):\n",
      " tensor([[  138,   479,     3,    86,   397,   109,  4562,  1237,   505,     3],\n",
      "        [  122,    87,   406,   165,   886,   606,   560,   145,   266,   835],\n",
      "        [  170,    84,   562,  3677,     3,    86,  1035,    87,  5294,  3806],\n",
      "        [11784,  2267,  3942,  6624,   109,    86,   288,  1544,   276,   419],\n",
      "        [  440,   113,    87,  1741,    38,    19, 23417,  1516,     3,  2764],\n",
      "        [  185,   163,  1023, 16967, 22859,   120,    87,   778, 29510,     3],\n",
      "        [  122,    87,  4787,   120,    87,  1861,   113,    87,  6986,  2669],\n",
      "        [  510,   708,  2697,   376,   530,   138,   165,   109,   216,   560]])\n",
      "\n",
      "X_meta of torch.Size([16, 51, 6]):\n",
      " tensor([[ 2,  3,  6, 10, 16, 17],\n",
      "        [ 2,  3,  6, 10, 16, 17],\n",
      "        [ 2,  3,  6, 10, 16, 17],\n",
      "        [ 2,  3,  6, 10, 16, 17],\n",
      "        [ 2,  3,  6, 11, 16, 17],\n",
      "        [ 2,  3,  6, 11, 16, 17],\n",
      "        [ 2,  3,  6, 11, 16, 17],\n",
      "        [ 2,  3,  6, 11, 16, 17],\n",
      "        [ 2,  3,  6, 11, 16, 17],\n",
      "        [ 2,  3,  6, 11, 16, 17]])\n",
      "\n",
      "Batch sizes of torch.Size([16]):\n",
      " tensor([51, 51, 51, 50, 46, 44, 41, 38, 38, 36, 33, 23,  4,  4,  3,  3])\n"
     ]
    }
   ],
   "source": [
    "def get_batches(li, li_meta, batch_size=16, seq_length=160, shuffle=False):\n",
    "    \"\"\"\n",
    "    Create a generator that returns batches of size\n",
    "    batch_size x seq_length from li\n",
    "    seq_length -> length of the longest sequence in batch\n",
    "       \n",
    "    Arguments\n",
    "    ---------\n",
    "    li:         List you want to make batches from\n",
    "    li_meta:    List with metadata annotations of the same length as li\n",
    "    batch_size: Batch size, the number of sequences per batch\n",
    "    shuffle:    Whether to shuffle li, li_meta <- is not recommended because of \n",
    "                            the unresolved memory issues while padding  \n",
    "    \n",
    "    Output\n",
    "    ---------\n",
    "    x:      Inputs\n",
    "    x_meta: Metadata for inputs\n",
    "    y:      Targets\n",
    "    \"\"\"\n",
    "    li_len, meta_len = len(li), len(li_meta)\n",
    "    assert li_len == meta_len\n",
    "    li = deepcopy(li)\n",
    "    li_meta = deepcopy(li_meta)\n",
    "    if shuffle:\n",
    "        rng = np.random.default_rng(random.randint(0, li_len))\n",
    "        set_idx = np.arange(start=0, stop=li_len)\n",
    "        rng.shuffle(set_idx)\n",
    "        li = [li[idx] for idx in set_idx]\n",
    "        li_meta = [li_meta[idx] for idx in set_idx]\n",
    "    else:        \n",
    "        sort_key = lambda x: len(x)\n",
    "        li.sort(key=sort_key, reverse=True)\n",
    "        li_meta.sort(key=sort_key, reverse=True)\n",
    "        \n",
    "    total_num_revs = li_len-li_len%batch_size\n",
    "    li, li_meta = li[:total_num_revs], li_meta[:total_num_revs]\n",
    "    \n",
    "    for bs in range(0, total_num_revs, batch_size):\n",
    "        batch_revs = li[bs:bs+batch_size]\n",
    "        batch_meta = li_meta[bs:bs+batch_size]\n",
    "\n",
    "        batch_revs = [torch.tensor(rev) for rev in batch_revs] # => we get a list of L tensors of torch.Size([*])\n",
    "        batch_meta = [torch.tensor(rev) for rev in batch_meta]\n",
    "        batch_revs = pad_sequence(batch_revs, batch_first=True) # -> torch.Size([batch_size, longest_review])\n",
    "        batch_meta = pad_sequence(batch_meta, batch_first=True)\n",
    "        longest = max(batch_revs.size())\n",
    "\n",
    "        try:\n",
    "            assert batch_meta.size()[:-1] == batch_revs.size()\n",
    "        except AssertionError:\n",
    "            print(f'Meta: {batch_meta.size()}, Rev: {batch_revs.size()}', file=sys.stderr)\n",
    "            sys.exit()\n",
    "            \n",
    "        if longest <= seq_length:\n",
    "            a = batch_revs[:,:-1]\n",
    "            b = batch_meta[:,:-1]\n",
    "            c = batch_revs[:,1:]\n",
    "            a_lens = (a != 0).sum(dim=1)\n",
    "            yield a, b, c, a_lens\n",
    "        else:\n",
    "            last = longest-longest%seq_length # 160*n, 160*n - 1, idx_last = 160*n-1\n",
    "            for idx in range(0, last-seq_length, seq_length):\n",
    "                target_idx = idx + 1 # last idx = longest-1-seq_length\n",
    "                a = batch_revs[:,idx:idx+seq_length] #.numpy()\n",
    "                b = batch_meta[:,idx:idx+seq_length]\n",
    "                c = batch_revs[:,target_idx:target_idx+seq_length]\n",
    "                #a_lens = torch.count_nonzero(a, dim=1) pytorch 1.7\n",
    "                a_lens = (a != 0).sum(dim=1) #.clamp(min=1, max=seq_length)\n",
    "                yield a, b, c, a_lens\n",
    "\n",
    "                    \n",
    "batches = get_batches(encoded_train[:64], metadata_train[:64], batch_size=16, shuffle=False)\n",
    "\n",
    "for e in range(1): # Making sure that batch sizes are right \n",
    "    for x, x_meta, y, bs in batches:\n",
    "        s1, s2, s3 = x.size()[-1], x_meta.size()[1], y.size()[-1]\n",
    "        if s1 != s2 or s2 != s3 or s1 != s3:\n",
    "            print(s1, s2, s3)\n",
    "\n",
    "# Printing out the first 10 items in a sequence:\n",
    "print(f'X of {x.shape}:\\n', x[:8, :10])\n",
    "print(f'\\nY of {y.shape}:\\n', y[:8, :10])\n",
    "\n",
    "# Printing out the first 10 metadata arrays:\n",
    "print(f'\\nX_meta of {x_meta.shape}:\\n', x_meta[0, :10])\n",
    "\n",
    "# Printing out the batch sizes for the last batch:\n",
    "print(f'\\nBatch sizes of {bs.shape}:\\n', bs)"
   ]
  },
  {
   "cell_type": "markdown",
   "metadata": {},
   "source": [
    "#### 4.1.1 Functions for predicting the next subword and generating text:"
   ]
  },
  {
   "cell_type": "code",
   "execution_count": 13,
   "metadata": {
    "scrolled": true
   },
   "outputs": [],
   "source": [
    "def predict(net, subword, metadata, h=None, temp=0.6, top_k=None, allowed_idx=None):\n",
    "    \"\"\" \n",
    "    Given a subword and its metadata predict the next subword.\n",
    "    Returns the predicted subword and the hidden state.\n",
    "    \"\"\"\n",
    "    # tensor inputs:\n",
    "    subword = torch.tensor([[subword]])\n",
    "\n",
    "    if train_on_gpu:\n",
    "        subword, metadata = subword.to(device='cuda', dtype=torch.long), \\\n",
    "                            metadata.to(device='cuda', dtype=torch.long)\n",
    "\n",
    "    # detach hidden state from history:\n",
    "    h = tuple([each.data for each in h])\n",
    "    \n",
    "    # get the output of the model:\n",
    "    out, h = net(subword, metadata, torch.tensor([1]), h) # Batch_size = 1\n",
    "    \n",
    "    # get the subwords probabilities\n",
    "    # apply softmax to get p probabilities for the likely next subword giving x:  \n",
    "    out = out[:, allowed_idx] # size: [1, len(vocab)-len(allowed_idx)]\n",
    "    p = F.softmax(out/temp, dim=1).data \n",
    "    if train_on_gpu:\n",
    "        p = p.cpu() # move to cpu\n",
    "\n",
    "    # get top subwords\n",
    "    # considering the k most probable subwords with topk method:\n",
    "    if top_k is None:\n",
    "        top_sw = np.arange(p.size()[-1])\n",
    "    else:\n",
    "        p, top_sw = p.topk(top_k)\n",
    "        top_sw = top_sw.numpy().squeeze()\n",
    "\n",
    "    # select the likely next subword with some element of randomness:\n",
    "    p = p.numpy().squeeze()\n",
    "    subword = np.random.choice(top_sw, p=p/p.sum())\n",
    "\n",
    "    # return the encoded value of the predicted subword and the hidden state:\n",
    "    return subword, h\n",
    "  \n",
    "\n",
    "def sample(net, size=300, num_sents=5, prime='this movie', temp=0.6,\n",
    "           metadata=None, top_k=None, indices_to_ignore=None):\n",
    "    \n",
    "    if metadata is None:\n",
    "        metadata = [1, 5, 8, 11, 13, 17]\n",
    "    if train_on_gpu:\n",
    "        net.cuda()\n",
    "    else:\n",
    "        net.cpu()\n",
    "\n",
    "    vocab_size = len(net.subwords)\n",
    "    filtered_vocab_map, allowed_idx = {}, []\n",
    "    if indices_to_ignore is not None:\n",
    "        idx_filtered = 0        \n",
    "        for idx in range(vocab_size):\n",
    "            if idx not in indices_to_ignore:\n",
    "                allowed_idx.append(idx)\n",
    "                filtered_vocab_map[idx_filtered] = idx\n",
    "                idx_filtered += 1\n",
    "        allowed_idx = torch.tensor(allowed_idx)\n",
    "    else:\n",
    "        allowed_idx = torch.tensor(list(range(vocab_size)))\n",
    "        filtered_vocab_map = {i:i for i in range(vocab_size)}\n",
    "    filtered_vocab_map_inverse = {v: k for k, v in filtered_vocab_map.items()}\n",
    "\n",
    "    # First off, run through the prime subwords:\n",
    "    subwords = net.bpe.encode(prime, output_type=yttm.OutputType.ID)\n",
    "    metadata = torch.tensor([[metadata]]) # Reshaping to (1, 1, 6) so that the dims correspond to those from get_batches()\n",
    "    \n",
    "    h = net.init_hidden(1)\n",
    "    for sw in subwords:\n",
    "        subword, h = predict(net, sw, metadata, h, temp=temp, top_k=top_k, allowed_idx=allowed_idx)\n",
    "        subword = filtered_vocab_map[subword]\n",
    "    subwords.append(subword) # appending the subword that comes after the last prime subword\n",
    "    \n",
    "    # Now pass in the previous subword and get a new one\n",
    "    i = 0\n",
    "    eos_idx = filtered_vocab_map_inverse[3] # 3 is the index of '<EOS>'\n",
    "    while (subwords.count(eos_idx) < num_sents) and (i < size): # We predict 'num_sents' until 'size' is not exceeded  \n",
    "        subword, h = predict(net, subwords[-1], metadata, h, temp=temp, top_k=top_k, allowed_idx=allowed_idx)\n",
    "        subword = filtered_vocab_map[subword]\n",
    "        subwords.append(subword)\n",
    "        i += 1\n",
    "        \n",
    "    subwords = list(filter(lambda a: a != 3, subwords)) # remove all occurrences of '<EOS>' from the final output\n",
    "    return net.bpe.decode(subwords)[0]"
   ]
  },
  {
   "cell_type": "markdown",
   "metadata": {},
   "source": [
    "#### 4.2 Defining the architecture of LSTM and its training function:"
   ]
  },
  {
   "cell_type": "code",
   "execution_count": 14,
   "metadata": {},
   "outputs": [],
   "source": [
    "class SubwordRNN(nn.Module):\n",
    "    \n",
    "    def __init__(self, subwords=None, bpe=None, embedding_dims=None, \\\n",
    "                 n_hidden=1024, n_layers=2, drop_prob=0.5):\n",
    "        \n",
    "        super().__init__()\n",
    "        self.drop_prob = drop_prob\n",
    "        self.n_layers = n_layers\n",
    "        self.n_hidden = n_hidden\n",
    "        \n",
    "        # saving the bpe-model to be able to use its encoding/decoding functions when generating some text:\n",
    "        self.bpe = bpe\n",
    "        self.subwords = subwords\n",
    "        \n",
    "        # defining 2 Embedding layers: one for subwords and another for metadata:\n",
    "        if embedding_dims is None:\n",
    "            embedding_dims = [256, 20]\n",
    "            \n",
    "        subword_emb_dim, metadata_emb_dim = embedding_dims\n",
    "        \n",
    "        self.sw_emb_layer = nn.Embedding(len(self.subwords), subword_emb_dim)\n",
    "        self.md_emb_layer = nn.Embedding(19, metadata_emb_dim) # 18 - total number of metadata features + 1 for padded sequences\n",
    "        \n",
    "        embedding_dim = subword_emb_dim + 6*metadata_emb_dim\n",
    "        # defining the LSTM:\n",
    "        self.lstm = nn.LSTM(embedding_dim, n_hidden, n_layers, \n",
    "                            dropout=drop_prob, batch_first=True)\n",
    "        \n",
    "        # define a dropout layer:\n",
    "        self.dropout = nn.Dropout(drop_prob)\n",
    "        \n",
    "        # define the final, fully-connected output layer:\n",
    "        self.fc = nn.Linear(n_hidden, len(self.subwords))      \n",
    "    \n",
    "    def forward(self, x, x_meta, batch_lengths, hidden):\n",
    "        \"\"\" \n",
    "        Forward pass through the network\n",
    "        \"\"\"\n",
    "        # Creating an embedding by concatenating a subword embedding and a metadata embedding:\n",
    "        subword_embeds = self.sw_emb_layer(x)\n",
    "        meta_embeds = self.md_emb_layer(x_meta).reshape(*x.size(), -1)\n",
    "    \n",
    "        embeds = torch.cat((subword_embeds, meta_embeds), dim=2)\n",
    "        \n",
    "        # Clamping because pack_padded_sequence doesn't support empty batches\n",
    "        batch_lengths_clamped = batch_lengths.clamp(min=1, max=batch_lengths.max().item())\n",
    "        \n",
    "        # Packing the sequence to avoid many senseless computations:\n",
    "        packed = pack_padded_sequence(embeds, batch_lengths_clamped, batch_first=True)\n",
    "        \n",
    "        # Get the outputs and the new hidden state from the lstm:\n",
    "        r_output_packed, hidden = self.lstm(packed, hidden)\n",
    "        \n",
    "        # Masking hidden (but not the cell state!), where not clamped batch_size = 0:\n",
    "        mask = (batch_lengths == 0).view(-1, 1)\n",
    "        \n",
    "        if train_on_gpu:\n",
    "            mask = mask.to(device='cuda') #.to(device='cuda') #.cuda()\n",
    "        hidden[0].masked_fill_(mask, 0)\n",
    "        \n",
    "        # Unpack the output:\n",
    "        r_output, _ = pad_packed_sequence(r_output_packed, batch_first=True)\n",
    "        \n",
    "        # pass through a dropout layer:\n",
    "        out = self.dropout(r_output)\n",
    "        \n",
    "        # Stack up LSTM outputs using view:\n",
    "        out = out.contiguous().view(-1, self.n_hidden)\n",
    "        \n",
    "        # put x through the fully-connected layer:\n",
    "        out = self.fc(out)       \n",
    "        \n",
    "        # return the final output and the hidden state:\n",
    "        return out, hidden\n",
    "    \n",
    "    \n",
    "    def init_hidden(self, batch_size):\n",
    "        \"\"\" \n",
    "        Initializes hidden state \n",
    "        \"\"\"\n",
    "        # Create two new tensors with sizes n_layers x batch_size x n_hidden,\n",
    "        # initialized to zero, for hidden state and cell state of LSTM:\n",
    "        weight = next(self.parameters()).data\n",
    "        \n",
    "        if (train_on_gpu):\n",
    "            hidden = (weight.new(self.n_layers, batch_size, self.n_hidden).zero_().to(device='cuda'),\n",
    "                      weight.new(self.n_layers, batch_size, self.n_hidden).zero_().to(device='cuda'))\n",
    "        else:\n",
    "            hidden = (weight.new(self.n_layers, batch_size, self.n_hidden).zero_(),\n",
    "                      weight.new(self.n_layers, batch_size, self.n_hidden).zero_())\n",
    "        \n",
    "        return hidden"
   ]
  },
  {
   "cell_type": "code",
   "execution_count": 15,
   "metadata": {},
   "outputs": [
    {
     "data": {
      "text/plain": [
       "tensor([[[0.1356, 0.5397, 0.2312, 0.9854],\n",
       "         [0.0000, 0.0000, 0.0000, 0.0000],\n",
       "         [0.6628, 0.4815, 0.4739, 0.2973]],\n",
       "\n",
       "        [[0.0217, 0.3702, 0.2407, 0.7552],\n",
       "         [0.0000, 0.0000, 0.0000, 0.0000],\n",
       "         [0.6027, 0.9549, 0.5480, 0.7880]]])"
      ]
     },
     "execution_count": 15,
     "metadata": {},
     "output_type": "execute_result"
    }
   ],
   "source": [
    "torch.rand((2,3,4)).masked_fill((torch.tensor([2, 0, 1]) == 0).view(-1, 1), 0)"
   ]
  },
  {
   "cell_type": "code",
   "execution_count": 16,
   "metadata": {},
   "outputs": [],
   "source": [
    "def train(net, train_data, train_metadata, epochs=10, batch_size=16, \n",
    "          seq_length=160, lr=0.0001, clip=5, val_frac=0.1, print_every=1, \n",
    "          current_epoch=1, save_every=2, shuffle=False):\n",
    "    \"\"\" \n",
    "    Training a network \n",
    "    \n",
    "    Arguments\n",
    "    ---------\n",
    "        \n",
    "    net: SubwordRNN network\n",
    "    data: text data to train the network\n",
    "    epochs: Number of epochs to train\n",
    "    batch_size: Number of mini-sequences per mini-batch, aka batch size\n",
    "    seq_length: Number of character steps per mini-batch\n",
    "    lr: learning rate\n",
    "    clip: gradient clipping\n",
    "    val_frac: Fraction of data to hold out for validation\n",
    "    print_every: Number of steps for printing training and validation loss   \n",
    "    shuffle: Whether to shuffle the training data after each iteration\n",
    "    \"\"\"\n",
    "    net.train()\n",
    "    \n",
    "    opt = torch.optim.Adam(net.parameters(), lr=lr)\n",
    "    criterion = nn.CrossEntropyLoss(ignore_index=0)\n",
    "    \n",
    "    # Create training and validation data:\n",
    "    corpus_len = len(train_data)\n",
    "    array = np.arange(start=0, stop=corpus_len) # review indices range   \n",
    "\n",
    "    rng = np.random.default_rng(42)\n",
    "    train_size = int((1-val_frac)*corpus_len)\n",
    "    val_size = corpus_len - train_size\n",
    "    train_set_idx = rng.choice(array, size=train_size, replace=False)\n",
    "\n",
    "    val_set_idx = np.setdiff1d(array, train_set_idx) # Unique values in array1 that are not in train_set_idx\n",
    "    \n",
    "    data = deepcopy([train_data[idx] for idx in train_set_idx])\n",
    "    metadata = deepcopy([train_metadata[idx] for idx in train_set_idx])\n",
    "    val_data = deepcopy([train_data[idx] for idx in val_set_idx])    \n",
    "    val_metadata = deepcopy([train_metadata[idx] for idx in val_set_idx])\n",
    "    \n",
    "    if train_on_gpu:\n",
    "        net.to(device='cuda')\n",
    "    \n",
    "    counter = 0\n",
    "    n_subwords = len(net.subwords)\n",
    "    for e in range(current_epoch, epochs+current_epoch):\n",
    "        # Initialize hidden state:\n",
    "        h = net.init_hidden(batch_size)\n",
    "        losses = []\n",
    "        \n",
    "        for inputs, meta, targets, batch_sizes in get_batches(data, metadata, batch_size, seq_length, shuffle):\n",
    "            counter += 1\n",
    "            \n",
    "            # Creating new variables for the hidden state, otherwise\n",
    "            # we'd backprop through the entire training history:\n",
    "            h = tuple([each.data for each in h])\n",
    "            \n",
    "            if train_on_gpu:\n",
    "                inputs = inputs.to(device='cuda', dtype=torch.long)\n",
    "                meta = meta.to(device='cuda', dtype=torch.long)\n",
    "                targets = targets.to(device='cuda', dtype=torch.long)\n",
    "                \n",
    "            seq_length_real_train = targets.size()[-1]\n",
    "\n",
    "            # Zero accumulated gradients:\n",
    "            net.zero_grad()\n",
    "            \n",
    "            # Get the output from the model:\n",
    "            output, h = net(inputs, meta, batch_sizes, h)\n",
    "\n",
    "            # Calculate the loss and perform backprop:\n",
    "            loss = criterion(output, targets.reshape(batch_size*seq_length_real_train))\n",
    "            losses.append(loss.item())\n",
    "            loss.backward()\n",
    "            \n",
    "            # `clip_grad_norm` helps prevent the exploding gradient problem in RNNs / LSTMs:\n",
    "            nn.utils.clip_grad_norm_(net.parameters(), clip)\n",
    "            opt.step()\n",
    "\n",
    "        # Loss stats:\n",
    "        if e % print_every == 0:\n",
    "            # Get validation loss:\n",
    "            val_h = net.init_hidden(batch_size)\n",
    "            val_losses = []\n",
    "            net.eval()\n",
    "            for x, x_meta, y, bs in get_batches(val_data, val_metadata, batch_size, seq_length, shuffle):                \n",
    "                # Creating new variables for the hidden state, otherwise\n",
    "                # we'd backprop through the entire training history\n",
    "                val_h = tuple([each.data for each in val_h])\n",
    "                \n",
    "                if train_on_gpu:\n",
    "                    inputs = x.to(device='cuda', dtype=torch.long)\n",
    "                    meta = x_meta.to(device='cuda', dtype=torch.long)\n",
    "                    targets = y.to(device='cuda', dtype=torch.long)\n",
    "                    \n",
    "                seq_length_real_val = targets.size()[-1]\n",
    "                output, val_h = net(inputs, meta, bs, val_h)\n",
    "                val_loss = criterion(output, targets.reshape(batch_size*seq_length_real_val))\n",
    "            \n",
    "                val_losses.append(val_loss.item())\n",
    "            \n",
    "            net.train() # reset to train mode after iterating through validation data\n",
    "            mean_val_loss = np.mean(val_losses)\n",
    "            \n",
    "            # Printing out some training statistics:\n",
    "            print(f'Epoch: {e:2}/{epochs}...',\n",
    "                  f'Step: {counter:6}...',\n",
    "                  f'Mean_Loss: {np.mean(losses):.3f}...',\n",
    "                  f'Val_Loss: {mean_val_loss:.3f}')\n",
    "            \n",
    "            # Generating text:\n",
    "            generated = sample(net, size=300, prime='this movie', metadata=[2, 5, 7, 10, 12, 18], \n",
    "                               top_k=None, indices_to_ignore=[0, 1]) # generating text without '<PAD>', '<UNK>'           \n",
    "            generated = f'Generated at epoch {e}:\\n{generated}\\n\\n' # generated text with a header\n",
    "            \n",
    "            save_dir = 'Generated Text' # directory where the generated text at epoch e will be saved\n",
    "            if not os.path.isdir(save_dir): # if there is no such directory, one will be created\n",
    "                os.mkdir(save_dir) \n",
    "            with open(f'{save_dir}/generated_text.txt', 'a', encoding='utf-8', errors='replace') as f:\n",
    "                f.write(generated)\n",
    "                \n",
    "        # Saving our model:        \n",
    "        if e % save_every == 0 or e == epochs:\n",
    "            net.eval() # VERY IMPORTANT\n",
    "            \n",
    "            if e >= 1 and e < 10:\n",
    "                model = f'lstm_0{e}_epoch.pt'\n",
    "            else:\n",
    "                model = f'lstm_{e}_epoch.pt'\n",
    "            \n",
    "            checkpoint = {'epoch': e,\n",
    "                          'n_hidden': net.n_hidden,\n",
    "                          'n_layers': net.n_layers,\n",
    "                          'model_state_dict': net.state_dict(),\n",
    "                          'opt_state_dict': opt.state_dict(),\n",
    "                          'loss': loss}\n",
    "\n",
    "            with open(model, 'wb') as f:\n",
    "                torch.save(checkpoint, f)\n",
    "                \n",
    "            net.train() # VERY IMPORTANT   "
   ]
  },
  {
   "cell_type": "markdown",
   "metadata": {},
   "source": [
    "#### 4.3 Training and generating text:"
   ]
  },
  {
   "cell_type": "code",
   "execution_count": 23,
   "metadata": {
    "scrolled": true
   },
   "outputs": [
    {
     "name": "stdout",
     "output_type": "stream",
     "text": [
      "SubwordRNN(\n",
      "  (sw_emb_layer): Embedding(30469, 128)\n",
      "  (md_emb_layer): Embedding(19, 10)\n",
      "  (lstm): LSTM(188, 3, batch_first=True)\n",
      "  (dropout): Dropout(p=0.0, inplace=False)\n",
      "  (fc): Linear(in_features=3, out_features=30469, bias=True)\n",
      ")\n"
     ]
    },
    {
     "name": "stderr",
     "output_type": "stream",
     "text": [
      "C:\\ProgramData\\Anaconda3\\lib\\site-packages\\numpy\\core\\fromnumeric.py:3373: RuntimeWarning: Mean of empty slice.\n",
      "  out=out, **kwargs)\n",
      "C:\\ProgramData\\Anaconda3\\lib\\site-packages\\numpy\\core\\_methods.py:170: RuntimeWarning: invalid value encountered in double_scalars\n",
      "  ret = ret.dtype.type(ret / rcount)\n"
     ]
    },
    {
     "name": "stdout",
     "output_type": "stream",
     "text": [
      "Epoch:  1/2... Step:      4... Mean_Loss: 10.433... Val_Loss: nan\n",
      "Epoch:  2/2... Step:      8... Mean_Loss: 10.429... Val_Loss: nan\n"
     ]
    }
   ],
   "source": [
    "# Defining and printing out the NN properties:\n",
    "embedding_dims=[128, 10] #[256, 20]\n",
    "drop_prob = 0.0 #0.5\n",
    "n_hidden= 3 #1024\n",
    "n_layers=1 #2\n",
    "lr=0.0003 #0.001 seems to overfit\n",
    "\n",
    "net = SubwordRNN(subwords=subwords, bpe=bpe, embedding_dims=embedding_dims, \n",
    "                 n_hidden=n_hidden, n_layers=n_layers, drop_prob=drop_prob)\n",
    "print(net)\n",
    "\n",
    "batch_size = 16 #16 \n",
    "seq_length = 160\n",
    "n_epochs = 2 #2\n",
    "\n",
    "# Training a dummy model for debugging: \n",
    "# use encoded_train[:64], metadata_train[:64] for initial debugging!\n",
    "train(net, encoded_train[:64], metadata_train[:64], epochs=n_epochs, \n",
    "      batch_size=batch_size, seq_length=seq_length, lr=lr, \n",
    "      print_every=1, save_every=1, current_epoch=1) \n",
    "# the real models were trained in Google Colaboratory and Paperspace Gradient"
   ]
  },
  {
   "cell_type": "code",
   "execution_count": 14,
   "metadata": {},
   "outputs": [],
   "source": [
    "import gc\n",
    "gc.collect()\n",
    "torch.cuda.empty_cache() "
   ]
  },
  {
   "cell_type": "markdown",
   "metadata": {},
   "source": [
    "#### 4.4 Loading a trained model:"
   ]
  },
  {
   "cell_type": "code",
   "execution_count": 17,
   "metadata": {},
   "outputs": [
    {
     "name": "stdout",
     "output_type": "stream",
     "text": [
      "SubwordRNN(\n",
      "  (sw_emb_layer): Embedding(30469, 256)\n",
      "  (md_emb_layer): Embedding(19, 20)\n",
      "  (lstm): LSTM(376, 1024, num_layers=3, batch_first=True, dropout=0.5)\n",
      "  (dropout): Dropout(p=0.5, inplace=False)\n",
      "  (fc): Linear(in_features=1024, out_features=30469, bias=True)\n",
      ")\n"
     ]
    }
   ],
   "source": [
    "path_to_model = 'LSTMs/ver3/lstm_10_epoch_lr0001.pt'\n",
    "\n",
    "model = SubwordRNN(subwords=subwords, bpe=bpe, embedding_dims=[256, 20], \n",
    "                   n_hidden=1024, n_layers=3, drop_prob=0.5)\n",
    "model.eval()\n",
    "checkpoint = torch.load(path_to_model)\n",
    "model.load_state_dict(checkpoint['model_state_dict'])\n",
    "print(model)"
   ]
  },
  {
   "cell_type": "code",
   "execution_count": 18,
   "metadata": {},
   "outputs": [
    {
     "name": "stdout",
     "output_type": "stream",
     "text": [
      "+---------------------+------------+\n",
      "|       Modules       | Parameters |\n",
      "+---------------------+------------+\n",
      "| sw_emb_layer.weight |  7800064   |\n",
      "| md_emb_layer.weight |    380     |\n",
      "|  lstm.weight_ih_l0  |  1540096   |\n",
      "|  lstm.weight_hh_l0  |  4194304   |\n",
      "|   lstm.bias_ih_l0   |    4096    |\n",
      "|   lstm.bias_hh_l0   |    4096    |\n",
      "|  lstm.weight_ih_l1  |  4194304   |\n",
      "|  lstm.weight_hh_l1  |  4194304   |\n",
      "|   lstm.bias_ih_l1   |    4096    |\n",
      "|   lstm.bias_hh_l1   |    4096    |\n",
      "|  lstm.weight_ih_l2  |  4194304   |\n",
      "|  lstm.weight_hh_l2  |  4194304   |\n",
      "|   lstm.bias_ih_l2   |    4096    |\n",
      "|   lstm.bias_hh_l2   |    4096    |\n",
      "|      fc.weight      |  31200256  |\n",
      "|       fc.bias       |   30469    |\n",
      "+---------------------+------------+\n",
      "Total Trainable Params: 61567361\n"
     ]
    },
    {
     "data": {
      "text/plain": [
       "61567361"
      ]
     },
     "execution_count": 18,
     "metadata": {},
     "output_type": "execute_result"
    }
   ],
   "source": [
    "from prettytable import PrettyTable\n",
    "\n",
    "def count_parameters(model):\n",
    "    table = PrettyTable([\"Modules\", \"Parameters\"])\n",
    "    total_params = 0\n",
    "    for name, parameter in model.named_parameters():\n",
    "        if not parameter.requires_grad: continue\n",
    "        param = parameter.numel()\n",
    "        table.add_row([name, param])\n",
    "        total_params+=param\n",
    "    print(table)\n",
    "    print(f\"Total Trainable Params: {total_params}\")\n",
    "    return total_params\n",
    "    \n",
    "count_parameters(model)"
   ]
  },
  {
   "cell_type": "markdown",
   "metadata": {},
   "source": [
    "#### 4.5 Some sampling examples:"
   ]
  },
  {
   "cell_type": "code",
   "execution_count": 19,
   "metadata": {},
   "outputs": [
    {
     "name": "stdout",
     "output_type": "stream",
     "text": [
      "this film shows me on the story two things i have heard in the film the plot i think the story line my review of the movie\n"
     ]
    }
   ],
   "source": [
    "generated = sample(model, size=300, prime='this film', \n",
    "                   metadata=[2, 5, 8, 11, 12, 17], top_k=None)\n",
    "\n",
    "print(generated)"
   ]
  },
  {
   "cell_type": "markdown",
   "metadata": {},
   "source": [
    "<h3><center>5. Intrinsic evaluation</center></h3>"
   ]
  },
  {
   "cell_type": "markdown",
   "metadata": {},
   "source": [
    "#### 5.1 Function to compute perplexity on some dataset: "
   ]
  },
  {
   "cell_type": "markdown",
   "metadata": {},
   "source": [
    "##### Using probabilities:"
   ]
  },
  {
   "cell_type": "code",
   "execution_count": 9,
   "metadata": {
    "scrolled": true
   },
   "outputs": [],
   "source": [
    "def perplexity_prob(net, encoded_test, metadata_test, batch_size=1000):\n",
    "    \n",
    "    probs = []\n",
    "    N = len(encoded_test)\n",
    "    range_list = list(range(0, N, batch_size))\n",
    "    \n",
    "    if train_on_gpu:\n",
    "        net.cuda()\n",
    "    else:\n",
    "        net.cpu()\n",
    "        \n",
    "    h = net.init_hidden(1)\n",
    "    \n",
    "    for i in range_list:\n",
    "        j = i + 1\n",
    "        \n",
    "        if i+batch_size >= N: # for the last batch\n",
    "            sw_id_cur = encoded_test[i:]\n",
    "            sw_id_next = encoded_test[j:]\n",
    "            meta_cur = metadata_test[i:]\n",
    "        else:    \n",
    "            sw_id_cur = encoded_test[i:i+batch_size]\n",
    "            sw_id_next = encoded_test[j:j+batch_size]\n",
    "            meta_cur = metadata_test[i:i+batch_size]\n",
    "        \n",
    "        meta = np.array([meta_cur])\n",
    "        x = np.array([sw_id_cur])\n",
    "        \n",
    "        x, meta = torch.from_numpy(x), torch.from_numpy(meta)\n",
    "        if train_on_gpu:\n",
    "            x, meta = x.to(device='cuda', dtype=torch.long), \\\n",
    "                      meta.to(device='cuda', dtype=torch.long)\n",
    "            \n",
    "        h = tuple([each.data for each in h])\n",
    "        out, h = net(x, meta, h)\n",
    "        p = F.softmax(out, dim=1).data\n",
    "        if train_on_gpu:\n",
    "            p = p.cpu() # move to cpu\n",
    "            \n",
    "        rows = list(range(len(sw_id_next)))\n",
    "        probs.append(p[rows, sw_id_next].numpy())   \n",
    "        \n",
    "    probs = np.concatenate(probs)\n",
    "    probs_logs = np.log(probs)\n",
    "    logs_sum = np.sum(probs_logs)\n",
    "    \n",
    "    prplxt = np.e**(-logs_sum/N) \n",
    "    \n",
    "    return prplxt\n",
    "\n",
    "#print(perplexity(rnn, encoded_test, metadata_test, batch_size=20000)) #[:10000]"
   ]
  },
  {
   "cell_type": "markdown",
   "metadata": {},
   "source": [
    "##### Using accumulated crossentropy-loss:"
   ]
  },
  {
   "cell_type": "code",
   "execution_count": 20,
   "metadata": {},
   "outputs": [],
   "source": [
    "def perplexity(net, encoded_test, metadata_test, batch_size=16):\n",
    "    \n",
    "    #criterion = nn.CrossEntropyLoss(ignore_index=0, reduction='sum')\n",
    "    \n",
    "    if train_on_gpu:\n",
    "        net.cuda()\n",
    "    else:\n",
    "        net.cpu()\n",
    "        \n",
    "    net.eval()    \n",
    "    h = net.init_hidden(batch_size) \n",
    "    logs_sum, N = 0, 0\n",
    "    \n",
    "    for x, x_meta, y, bs in get_batches(encoded_test, metadata_test):                \n",
    "\n",
    "        h = tuple([each.data for each in h])\n",
    "\n",
    "        if train_on_gpu:\n",
    "            inputs = x.to(device='cuda', dtype=torch.long)\n",
    "            meta = x_meta.to(device='cuda', dtype=torch.long)\n",
    "            targets = y.to(device='cuda', dtype=torch.long)\n",
    "\n",
    "        seq_length_real_val = targets.size()[-1]\n",
    "        N += bs.sum().item()\n",
    "        output, h = net(inputs, meta, bs, h)\n",
    "        loss = F.cross_entropy(output, targets.reshape(batch_size*seq_length_real_val), \n",
    "                               ignore_index=0, reduction='sum')\n",
    "        logs_sum += loss.item()\n",
    "        \n",
    "    prplxt = np.exp(logs_sum/N)\n",
    "    \n",
    "    return prplxt"
   ]
  },
  {
   "cell_type": "markdown",
   "metadata": {},
   "source": [
    "#### 5.2 Computing perplexities of the models:"
   ]
  },
  {
   "cell_type": "code",
   "execution_count": 20,
   "metadata": {
    "scrolled": false
   },
   "outputs": [
    {
     "name": "stdout",
     "output_type": "stream",
     "text": [
      "Perplexity of the trained models:\n",
      "\n",
      "\t1. \"lstm_10_epoch.pt        \": 666\n"
     ]
    }
   ],
   "source": [
    "path_to_lstms = 'LSTMs/ver3/'\n",
    "models_list = os.listdir(path_to_lstms)\n",
    "\n",
    "print(f'Perplexity of the trained models:\\n')\n",
    "\n",
    "scores = []\n",
    "\n",
    "for model in models_list:    \n",
    "    path_to_model = path_to_lstms + model\n",
    "    \n",
    "    rnn = SubwordRNN(subwords=subwords, bpe=bpe, embedding_dims=[256, 20], \n",
    "                     n_hidden=1024, n_layers=1, drop_prob=0.0)\n",
    "    rnn.eval()\n",
    "    checkpoint = torch.load(path_to_model)\n",
    "    rnn.load_state_dict(checkpoint['model_state_dict'])\n",
    "    \n",
    "    score = perplexity(rnn, encoded_test, metadata_test)\n",
    "    scores.append((model, score))\n",
    "\n",
    "for idx, (model, score) in enumerate(sorted(scores, key=lambda x: x[1]), 1):     \n",
    "    print(f'\\t{idx}. \"{model}\": {score:.0f}') #:24"
   ]
  },
  {
   "cell_type": "markdown",
   "metadata": {},
   "source": [
    "# Experiments with torchtext:\n",
    "(I tried to experiment with this library to find out whether I can use some standard Iterator instead of my own, but the interface is somehow very hard to understand, so it didn't really work out ¯\\\\_(ツ)_/¯)"
   ]
  },
  {
   "cell_type": "code",
   "execution_count": 7,
   "metadata": {},
   "outputs": [],
   "source": [
    "import torch\n",
    "import torchtext\n",
    "from torchtext.data import TabularDataset, Field, BPTTIterator\n",
    "from torchtext.datasets import LanguageModelingDataset\n",
    "from torchtext.data.functional import generate_sp_model\n",
    "from torchtext.data.functional import load_sp_model\n",
    "from torchtext.data.functional import sentencepiece_tokenizer, sentencepiece_numericalizer"
   ]
  },
  {
   "cell_type": "code",
   "execution_count": 7,
   "metadata": {},
   "outputs": [],
   "source": [
    "sentences_on_lines = 'sentences_on_lines.txt'\n",
    "with open(sentences_on_lines, 'w', encoding='utf-8') as f:\n",
    "    for sent in sents_list:\n",
    "        f.write(f'{sent}\\n')\n",
    "generate_sp_model(sentences_on_lines, vocab_size=20000, model_type='bpe', model_prefix='sp_bpe')"
   ]
  },
  {
   "cell_type": "code",
   "execution_count": 39,
   "metadata": {},
   "outputs": [
    {
     "data": {
      "text/plain": [
       "['▁',\n",
       " 'I',\n",
       " '▁have',\n",
       " '▁the',\n",
       " '▁',\n",
       " 'D',\n",
       " 'oo',\n",
       " '▁',\n",
       " 'W',\n",
       " 'op',\n",
       " '▁00',\n",
       " '▁and',\n",
       " '▁00',\n",
       " '▁',\n",
       " 'DVD',\n",
       " 's']"
      ]
     },
     "execution_count": 39,
     "metadata": {},
     "output_type": "execute_result"
    }
   ],
   "source": [
    "sp_model = load_sp_model('sp_bpe.model')\n",
    "\n",
    "def tokenizer(text):\n",
    "    \"\"\"\n",
    "    Produces the following tokenized output:\n",
    "    [['▁', 'I'], ['▁t'], [\"▁'\"], ... ]\n",
    "    \n",
    "    But the output should have the following form:\n",
    "    ['Imagine', '0', 'stadiums', 'hosting', 'the', 'Super', 'Bowl', ... ]\n",
    "    \"\"\"\n",
    "    sp_tokens_generator = sentencepiece_tokenizer(sp_model)\n",
    "    return list(sp_tokens_generator([text]))[0]\n",
    "\n",
    "def numericalizer(text):\n",
    "    numericalizer = sentencepiece_numericalizer(sp_model)\n",
    "    return list(numericalizer([text]))[0]\n",
    "\n",
    "\n",
    "tokenizer('I have the Doo Wop 00 and 00 DVDs')"
   ]
  },
  {
   "cell_type": "code",
   "execution_count": 40,
   "metadata": {},
   "outputs": [
    {
     "name": "stdout",
     "output_type": "stream",
     "text": [
      "{'text': ['▁', 'I', 'm', 'ag', 'ine', '▁0', '▁stadium', 's', '▁host', 'ing', '▁the', '▁', 'S', 'u', 'per', '▁', 'B', 'ow', 'l', '▁all', '▁crammed', '▁into', '▁one', '▁theater', '.'], 'pro': '0', 'senti': '4', 'len': '6', 'pers': '9', 'theme': '15', 'descr': '16'}\n"
     ]
    }
   ],
   "source": [
    "# create tuples representing the columns\n",
    "TEXT = Field(sequential=True, batch_first=True, tokenize=tokenizer) #, tokenize=tokenizer\n",
    "LABEL = Field(sequential=False, use_vocab=False)\n",
    "\n",
    "fields = [\n",
    "    ('text', TEXT),\n",
    "    ('pro', LABEL),\n",
    "    ('senti', LABEL),\n",
    "    ('len', LABEL),\n",
    "    ('pers', LABEL),\n",
    "    ('theme', LABEL),\n",
    "    ('descr', LABEL)\n",
    "]\n",
    "\n",
    "\n",
    "ds = TabularDataset(\n",
    "    path='corpus_small_annotated_test.csv',\n",
    "    format='tsv',\n",
    "    fields=fields,\n",
    "    skip_header=True\n",
    ")\n",
    "\n",
    "ds_train, ds_test, ds_val = ds.split(split_ratio=[0.6, 0.2, 0.2])\n",
    "\n",
    "# check an example\n",
    "print(vars(ds_train[0]))\n",
    "\n",
    "TEXT.build_vocab(ds_train)\n",
    "#LABEL.build_vocab(ds_train)"
   ]
  },
  {
   "cell_type": "code",
   "execution_count": 41,
   "metadata": {
    "scrolled": true
   },
   "outputs": [],
   "source": [
    "train_iter, valid_iter, test_iter = BPTTIterator.splits(\n",
    "    (ds_train, ds_test, ds_val),\n",
    "    batch_size=2,\n",
    "    bptt_len=1, # this is where we specify the sequence length\n",
    "    device=torch.device('cuda'),\n",
    "    repeat=True,\n",
    "    shuffle=True,\n",
    "    sort_key=lambda x: len(x.text)\n",
    ")"
   ]
  },
  {
   "cell_type": "code",
   "execution_count": 42,
   "metadata": {
    "scrolled": true
   },
   "outputs": [
    {
     "name": "stdout",
     "output_type": "stream",
     "text": [
      "{'text': <torchtext.data.field.Field object at 0x00000291FFBDB448>, 'pro': <torchtext.data.field.Field object at 0x00000291FFBDB548>, 'senti': <torchtext.data.field.Field object at 0x00000291FFBDB548>, 'len': <torchtext.data.field.Field object at 0x00000291FFBDB548>, 'pers': <torchtext.data.field.Field object at 0x00000291FFBDB548>, 'theme': <torchtext.data.field.Field object at 0x00000291FFBDB548>, 'descr': <torchtext.data.field.Field object at 0x00000291FFBDB548>}\n"
     ]
    },
    {
     "data": {
      "text/plain": [
       "['▁',\n",
       " 'I',\n",
       " '▁have',\n",
       " '▁the',\n",
       " '▁',\n",
       " 'D',\n",
       " 'oo',\n",
       " '▁',\n",
       " 'W',\n",
       " 'op',\n",
       " '▁00',\n",
       " '▁and',\n",
       " '▁00',\n",
       " '▁',\n",
       " 'DVD',\n",
       " 's',\n",
       " ',',\n",
       " '▁and',\n",
       " '▁was',\n",
       " '▁anxious',\n",
       " 'ly',\n",
       " '▁waiting',\n",
       " '▁for',\n",
       " '▁',\n",
       " 'R',\n",
       " 'ock',\n",
       " ',',\n",
       " '▁',\n",
       " 'R',\n",
       " 'h',\n",
       " 'yth',\n",
       " 'm',\n",
       " '▁and',\n",
       " '▁',\n",
       " 'D',\n",
       " 'oo',\n",
       " '▁',\n",
       " 'W',\n",
       " 'op',\n",
       " '▁to',\n",
       " '▁arrive',\n",
       " '.']"
      ]
     },
     "execution_count": 42,
     "metadata": {},
     "output_type": "execute_result"
    }
   ],
   "source": [
    "print(ds.fields)\n",
    "next(ds.text)"
   ]
  },
  {
   "cell_type": "code",
   "execution_count": 43,
   "metadata": {
    "scrolled": true
   },
   "outputs": [
    {
     "data": {
      "text/plain": [
       "83"
      ]
     },
     "execution_count": 43,
     "metadata": {},
     "output_type": "execute_result"
    }
   ],
   "source": [
    "len(TEXT.vocab)"
   ]
  },
  {
   "cell_type": "code",
   "execution_count": 44,
   "metadata": {},
   "outputs": [
    {
     "name": "stdout",
     "output_type": "stream",
     "text": [
      "tensor([[ 2],\n",
      "        [41]], device='cuda:0')\n",
      "tensor([[ 9],\n",
      "        [37]], device='cuda:0')\n",
      "<generator object Dataset.__getattr__ at 0x00000291FC5AF448>\n",
      "dict_keys(['text', 'target'])\n"
     ]
    }
   ],
   "source": [
    "b = next(iter(train_iter))\n",
    "#print(vars(b).keys())dict_keys(['batch_size', 'dataset', 'fields', 'text', 'target'])\n",
    "print(b.text)\n",
    "print(b.target)\n",
    "print(b.dataset.pro)  \n",
    "print(b.fields)  "
   ]
  },
  {
   "cell_type": "code",
   "execution_count": 34,
   "metadata": {},
   "outputs": [
    {
     "data": {
      "text/plain": [
       "['Imagine',\n",
       " '0',\n",
       " 'stadiums',\n",
       " 'hosting',\n",
       " 'the',\n",
       " 'Super',\n",
       " 'Bowl',\n",
       " 'all',\n",
       " 'crammed',\n",
       " 'into',\n",
       " 'one',\n",
       " 'theater.']"
      ]
     },
     "execution_count": 34,
     "metadata": {},
     "output_type": "execute_result"
    }
   ],
   "source": [
    "ds_train[0].__dict__.keys()\n",
    "ds_train[0].text"
   ]
  }
 ],
 "metadata": {
  "kernelspec": {
   "display_name": "Python 3",
   "language": "python",
   "name": "python3"
  },
  "language_info": {
   "codemirror_mode": {
    "name": "ipython",
    "version": 3
   },
   "file_extension": ".py",
   "mimetype": "text/x-python",
   "name": "python",
   "nbconvert_exporter": "python",
   "pygments_lexer": "ipython3",
   "version": "3.7.7"
  }
 },
 "nbformat": 4,
 "nbformat_minor": 4
}
